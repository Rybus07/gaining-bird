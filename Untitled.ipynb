{
 "cells": [
  {
   "cell_type": "markdown",
   "id": "96e8d615-ca70-4d29-b6cc-1d0f09d19f45",
   "metadata": {},
   "source": [
    "# Amateur Strokes Gained Shot Tracker"
   ]
  },
  {
   "cell_type": "code",
   "execution_count": 3,
   "id": "06ebd58e-82ac-4a1c-b0b1-53e95cabf351",
   "metadata": {},
   "outputs": [],
   "source": [
    "import pandas as pd\n",
    "import numpy as np"
   ]
  },
  {
   "cell_type": "code",
   "execution_count": 4,
   "id": "bca7cf74",
   "metadata": {},
   "outputs": [
    {
     "data": {
      "text/html": [
       "<div>\n",
       "<style scoped>\n",
       "    .dataframe tbody tr th:only-of-type {\n",
       "        vertical-align: middle;\n",
       "    }\n",
       "\n",
       "    .dataframe tbody tr th {\n",
       "        vertical-align: top;\n",
       "    }\n",
       "\n",
       "    .dataframe thead th {\n",
       "        text-align: right;\n",
       "    }\n",
       "</style>\n",
       "<table border=\"1\" class=\"dataframe\">\n",
       "  <thead>\n",
       "    <tr style=\"text-align: right;\">\n",
       "      <th></th>\n",
       "      <th>Distance</th>\n",
       "      <th>Tee</th>\n",
       "      <th>Fairway</th>\n",
       "      <th>Rough</th>\n",
       "      <th>Sand</th>\n",
       "    </tr>\n",
       "  </thead>\n",
       "  <tbody>\n",
       "    <tr>\n",
       "      <th>0</th>\n",
       "      <td>3</td>\n",
       "      <td>NaN</td>\n",
       "      <td>2.00</td>\n",
       "      <td>2.16</td>\n",
       "      <td>2.25</td>\n",
       "    </tr>\n",
       "    <tr>\n",
       "      <th>1</th>\n",
       "      <td>4</td>\n",
       "      <td>NaN</td>\n",
       "      <td>2.03</td>\n",
       "      <td>2.19</td>\n",
       "      <td>2.28</td>\n",
       "    </tr>\n",
       "    <tr>\n",
       "      <th>2</th>\n",
       "      <td>5</td>\n",
       "      <td>NaN</td>\n",
       "      <td>2.05</td>\n",
       "      <td>2.21</td>\n",
       "      <td>2.30</td>\n",
       "    </tr>\n",
       "    <tr>\n",
       "      <th>3</th>\n",
       "      <td>6</td>\n",
       "      <td>NaN</td>\n",
       "      <td>2.08</td>\n",
       "      <td>2.24</td>\n",
       "      <td>2.32</td>\n",
       "    </tr>\n",
       "    <tr>\n",
       "      <th>4</th>\n",
       "      <td>7</td>\n",
       "      <td>NaN</td>\n",
       "      <td>2.10</td>\n",
       "      <td>2.26</td>\n",
       "      <td>2.35</td>\n",
       "    </tr>\n",
       "  </tbody>\n",
       "</table>\n",
       "</div>"
      ],
      "text/plain": [
       "   Distance  Tee  Fairway  Rough  Sand\n",
       "0         3  NaN     2.00   2.16  2.25\n",
       "1         4  NaN     2.03   2.19  2.28\n",
       "2         5  NaN     2.05   2.21  2.30\n",
       "3         6  NaN     2.08   2.24  2.32\n",
       "4         7  NaN     2.10   2.26  2.35"
      ]
     },
     "execution_count": 4,
     "metadata": {},
     "output_type": "execute_result"
    }
   ],
   "source": [
    "golfshot = pd.read_csv(\"data/shot_baseline.csv\")\n",
    "golfshot.head()"
   ]
  },
  {
   "cell_type": "code",
   "execution_count": 6,
   "id": "f49b6d5d",
   "metadata": {},
   "outputs": [
    {
     "name": "stdout",
     "output_type": "stream",
     "text": [
      "Start value from Tee at 300 yards: 3.72\n"
     ]
    }
   ],
   "source": [
    "start_value = golfshot.loc[300, \"Tee\"]\n",
    "start_lie = \"Tee\"\n",
    "start_distance = \"300\"\n",
    "print(f\"Start value from {start_lie} at {start_distance} yards: {start_value}\")\n"
   ]
  },
  {
   "cell_type": "code",
   "execution_count": 7,
   "id": "71dea5fc",
   "metadata": {},
   "outputs": [
    {
     "name": "stdout",
     "output_type": "stream",
     "text": [
      "Start value from Fairway at 50 yards: 2.67\n"
     ]
    }
   ],
   "source": [
    "final_value = golfshot.loc[50, \"Fairway\"]\n",
    "final_lie = \"Fairway\"\n",
    "final_distance = \"50\"\n",
    "print(f\"Start value from {final_lie} at {final_distance} yards: {final_value}\")"
   ]
  },
  {
   "cell_type": "code",
   "execution_count": 8,
   "id": "228babc5",
   "metadata": {},
   "outputs": [
    {
     "name": "stdout",
     "output_type": "stream",
     "text": [
      "Strokes Gained : 0.050000000000000266 \n"
     ]
    }
   ],
   "source": [
    "strokes = start_value - (1+final_value)\n",
    "print(f\"Strokes Gained : {strokes} \")"
   ]
  },
  {
   "cell_type": "code",
   "execution_count": 9,
   "id": "1576584e",
   "metadata": {},
   "outputs": [],
   "source": [
    "def strokes_gained_calculate(initial_lie, initial_distance, final_lie, final_distance, df):\n",
    "\n",
    "    if initial_lie not in df.columns or final_lie not in df.columns:\n",
    "        return \"Invalid lie provided\"\n",
    "    \n",
    "    if initial_distance not in df.index or final_distance not in df.index:\n",
    "        return \"Invalid distance provided\"\n",
    "    \n",
    "    start_value = df.loc[initial_distance, initial_lie]\n",
    "    final_value = df.loc[final_distance, final_lie]\n",
    "\n",
    "    strokes_gained = start_value - (1+final_value)\n",
    "\n",
    "    # Format the output with the correct sign\n",
    "    if strokes_gained > 0:\n",
    "        result = f\"Strokes Gained: +{strokes_gained:.3f}\"\n",
    "    else:\n",
    "        result = f\"Strokes Gained: {strokes_gained:.3f}\"\n",
    "\n",
    "    return result\n"
   ]
  },
  {
   "cell_type": "code",
   "execution_count": 10,
   "id": "50c00c9e",
   "metadata": {},
   "outputs": [
    {
     "data": {
      "text/plain": [
       "'Strokes Gained: -0.200'"
      ]
     },
     "execution_count": 10,
     "metadata": {},
     "output_type": "execute_result"
    }
   ],
   "source": [
    "strokes_gained_calculate(\"Tee\", 300, \"Rough\", 60, golfshot)"
   ]
  },
  {
   "cell_type": "code",
   "execution_count": null,
   "id": "d80498b0",
   "metadata": {},
   "outputs": [],
   "source": []
  }
 ],
 "metadata": {
  "kernelspec": {
   "display_name": "Golf Project",
   "language": "python",
   "name": "golf_venv"
  },
  "language_info": {
   "codemirror_mode": {
    "name": "ipython",
    "version": 3
   },
   "file_extension": ".py",
   "mimetype": "text/x-python",
   "name": "python",
   "nbconvert_exporter": "python",
   "pygments_lexer": "ipython3",
   "version": "3.9.16"
  }
 },
 "nbformat": 4,
 "nbformat_minor": 5
}
